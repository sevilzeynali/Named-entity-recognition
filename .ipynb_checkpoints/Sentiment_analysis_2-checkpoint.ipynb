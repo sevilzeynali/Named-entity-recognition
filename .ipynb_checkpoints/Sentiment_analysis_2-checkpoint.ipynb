{
 "cells": [
  {
   "cell_type": "code",
   "execution_count": 195,
   "id": "116fe89a",
   "metadata": {},
   "outputs": [
    {
     "data": {
      "text/html": [
       "<div>\n",
       "<style scoped>\n",
       "    .dataframe tbody tr th:only-of-type {\n",
       "        vertical-align: middle;\n",
       "    }\n",
       "\n",
       "    .dataframe tbody tr th {\n",
       "        vertical-align: top;\n",
       "    }\n",
       "\n",
       "    .dataframe thead th {\n",
       "        text-align: right;\n",
       "    }\n",
       "</style>\n",
       "<table border=\"1\" class=\"dataframe\">\n",
       "  <thead>\n",
       "    <tr style=\"text-align: right;\">\n",
       "      <th></th>\n",
       "      <th>id</th>\n",
       "      <th>label</th>\n",
       "      <th>tweet</th>\n",
       "    </tr>\n",
       "  </thead>\n",
       "  <tbody>\n",
       "    <tr>\n",
       "      <th>0</th>\n",
       "      <td>1</td>\n",
       "      <td>0</td>\n",
       "      <td>@user when a father is dysfunctional and is s...</td>\n",
       "    </tr>\n",
       "    <tr>\n",
       "      <th>1</th>\n",
       "      <td>2</td>\n",
       "      <td>0</td>\n",
       "      <td>@user @user thanks for #lyft credit i can't us...</td>\n",
       "    </tr>\n",
       "    <tr>\n",
       "      <th>2</th>\n",
       "      <td>3</td>\n",
       "      <td>0</td>\n",
       "      <td>bihday your majesty</td>\n",
       "    </tr>\n",
       "    <tr>\n",
       "      <th>3</th>\n",
       "      <td>4</td>\n",
       "      <td>0</td>\n",
       "      <td>#model   i love u take with u all the time in ...</td>\n",
       "    </tr>\n",
       "    <tr>\n",
       "      <th>4</th>\n",
       "      <td>5</td>\n",
       "      <td>0</td>\n",
       "      <td>factsguide: society now    #motivation</td>\n",
       "    </tr>\n",
       "  </tbody>\n",
       "</table>\n",
       "</div>"
      ],
      "text/plain": [
       "   id  label                                              tweet\n",
       "0   1      0   @user when a father is dysfunctional and is s...\n",
       "1   2      0  @user @user thanks for #lyft credit i can't us...\n",
       "2   3      0                                bihday your majesty\n",
       "3   4      0  #model   i love u take with u all the time in ...\n",
       "4   5      0             factsguide: society now    #motivation"
      ]
     },
     "execution_count": 195,
     "metadata": {},
     "output_type": "execute_result"
    }
   ],
   "source": [
    "import pandas as pd\n",
    "df=pd.read_csv(\"C:/Users/Sevil/Desktop/datascientest/data_sets/corpus_sentiment_analysis/train.csv\")\n",
    "df.head()"
   ]
  },
  {
   "cell_type": "code",
   "execution_count": 196,
   "id": "8924b299",
   "metadata": {},
   "outputs": [
    {
     "data": {
      "text/plain": [
       "0    29720\n",
       "1     2242\n",
       "Name: label, dtype: int64"
      ]
     },
     "execution_count": 196,
     "metadata": {},
     "output_type": "execute_result"
    }
   ],
   "source": [
    "df[\"label\"].value_counts()"
   ]
  },
  {
   "cell_type": "code",
   "execution_count": 197,
   "id": "73f0b41b",
   "metadata": {},
   "outputs": [
    {
     "data": {
      "text/plain": [
       "0    0.929854\n",
       "1    0.070146\n",
       "Name: label, dtype: float64"
      ]
     },
     "execution_count": 197,
     "metadata": {},
     "output_type": "execute_result"
    }
   ],
   "source": [
    "df[\"label\"].value_counts(normalize=True)"
   ]
  },
  {
   "cell_type": "code",
   "execution_count": 198,
   "id": "b3e762a0",
   "metadata": {},
   "outputs": [
    {
     "data": {
      "text/plain": [
       "<AxesSubplot:xlabel='label', ylabel='count'>"
      ]
     },
     "execution_count": 198,
     "metadata": {},
     "output_type": "execute_result"
    },
    {
     "data": {
      "image/png": "[encoded data removed]",
      "text/plain": [
       "<Figure size 432x288 with 1 Axes>"
      ]
     },
     "metadata": {},
     "output_type": "display_data"
    }
   ],
   "source": [
    "import seaborn as sns\n",
    "from matplotlib import pyplot as plt\n",
    "plt.style.use('ggplot')\n",
    "sns.countplot(x=\"label\",data=df)"
   ]
  },
  {
   "cell_type": "code",
   "execution_count": 199,
   "id": "09dfaf29",
   "metadata": {},
   "outputs": [
    {
     "data": {
      "text/plain": [
       "0"
      ]
     },
     "execution_count": 199,
     "metadata": {},
     "output_type": "execute_result"
    }
   ],
   "source": [
    "import re\n",
    "count = 0\n",
    "for tweet in df[\"tweet\"] :\n",
    "    if tweet[:2]=='RT':\n",
    "        count += 1\n",
    "            \n",
    "count"
   ]
  },
  {
   "cell_type": "code",
   "execution_count": 200,
   "id": "5c997254",
   "metadata": {},
   "outputs": [
    {
     "name": "stderr",
     "output_type": "stream",
     "text": [
      "[nltk_data] Downloading package punkt to\n",
      "[nltk_data]     C:\\Users\\Sevil\\AppData\\Roaming\\nltk_data...\n",
      "[nltk_data]   Package punkt is already up-to-date!\n"
     ]
    },
    {
     "data": {
      "text/html": [
       "<div>\n",
       "<style scoped>\n",
       "    .dataframe tbody tr th:only-of-type {\n",
       "        vertical-align: middle;\n",
       "    }\n",
       "\n",
       "    .dataframe tbody tr th {\n",
       "        vertical-align: top;\n",
       "    }\n",
       "\n",
       "    .dataframe thead th {\n",
       "        text-align: right;\n",
       "    }\n",
       "</style>\n",
       "<table border=\"1\" class=\"dataframe\">\n",
       "  <thead>\n",
       "    <tr style=\"text-align: right;\">\n",
       "      <th></th>\n",
       "      <th>id</th>\n",
       "      <th>label</th>\n",
       "      <th>tweet</th>\n",
       "    </tr>\n",
       "  </thead>\n",
       "  <tbody>\n",
       "    <tr>\n",
       "      <th>0</th>\n",
       "      <td>1</td>\n",
       "      <td>0</td>\n",
       "      <td>[user, father, dysfunctional, selfish, drags, ...</td>\n",
       "    </tr>\n",
       "    <tr>\n",
       "      <th>1</th>\n",
       "      <td>2</td>\n",
       "      <td>0</td>\n",
       "      <td>[user, user, thanks, lyft, credit, use, cause,...</td>\n",
       "    </tr>\n",
       "    <tr>\n",
       "      <th>2</th>\n",
       "      <td>3</td>\n",
       "      <td>0</td>\n",
       "      <td>[bihday, majesty]</td>\n",
       "    </tr>\n",
       "    <tr>\n",
       "      <th>3</th>\n",
       "      <td>4</td>\n",
       "      <td>0</td>\n",
       "      <td>[model, love, take, time, !, !, !]</td>\n",
       "    </tr>\n",
       "    <tr>\n",
       "      <th>4</th>\n",
       "      <td>5</td>\n",
       "      <td>0</td>\n",
       "      <td>[factsguide, society, motivation]</td>\n",
       "    </tr>\n",
       "  </tbody>\n",
       "</table>\n",
       "</div>"
      ],
      "text/plain": [
       "   id  label                                              tweet\n",
       "0   1      0  [user, father, dysfunctional, selfish, drags, ...\n",
       "1   2      0  [user, user, thanks, lyft, credit, use, cause,...\n",
       "2   3      0                                  [bihday, majesty]\n",
       "3   4      0                 [model, love, take, time, !, !, !]\n",
       "4   5      0                  [factsguide, society, motivation]"
      ]
     },
     "execution_count": 200,
     "metadata": {},
     "output_type": "execute_result"
    }
   ],
   "source": [
    "import unicodedata\n",
    "import re\n",
    "import nltk\n",
    "from nltk.corpus import stopwords\n",
    "nltk.download('punkt')\n",
    "from nltk.tokenize import word_tokenize\n",
    "\n",
    "stop_words = stopwords.words('english')\n",
    "\n",
    "def unicode_to_ascii(s):\n",
    "    return ''.join(c for c in unicodedata.normalize('NFD', s)\n",
    "        if unicodedata.category(c) != 'Mn')\n",
    "\n",
    "def preprocess_sentence(w):\n",
    "    w = unicode_to_ascii(w.lower().strip())\n",
    "    # creating a space between a word and the punctuation following it\n",
    "    # eg: \"he is a boy.\" => \"he is a boy .\"\n",
    "    w = re.sub(r\"([?.!,¿])\", r\" \\1 \", w)\n",
    "    w = re.sub(r'[\" \"]+', \" \", w)\n",
    "    # replacing everything with space except (a-z, A-Z, \".\", \"?\", \"!\", \",\")\n",
    "    w = re.sub(r\"[^a-zA-Z?.!]+\", \" \", w)\n",
    "    w = re.sub(r'\\b\\w{0,2}\\b', '', w)\n",
    "    #enlever les liens\n",
    "    w = re.sub(r\"https?://[a-zA-Z0-9./]+\", \" \", w)\n",
    "    #enlever les mails\n",
    "    w = re.sub(r\"[a-zA-Z0-9.-]+@[a-zA-Z.]+\", \" \", w)\n",
    "    #enlever les htags\n",
    "    w = re.sub(r\"#[a-zA-Z0-9]+\", \"_\", w)\n",
    "    w = re.sub(r\"@[a-zA-Z0-9]+\", \" \", w)\n",
    "    \n",
    "\n",
    "    # remove stopword\n",
    "    mots = word_tokenize(w.strip())\n",
    "    mots = [mot for mot in mots if mot not in stop_words]\n",
    "    #return ' '.join(mots).strip()\n",
    "    return mots\n",
    "\n",
    "df[\"tweet\"]= df[\"tweet\"].apply(lambda x :preprocess_sentence(x))\n",
    "df.head()"
   ]
  },
  {
   "cell_type": "code",
   "execution_count": 201,
   "id": "02a8f172",
   "metadata": {},
   "outputs": [],
   "source": [
    "from sklearn.model_selection import train_test_split\n",
    "X_train, X_test, y_train, y_test = train_test_split(df[\"tweet\"], df[\"label\"], test_size=0.2, random_state=1234)"
   ]
  },
  {
   "cell_type": "code",
   "execution_count": 202,
   "id": "5f9d6be9",
   "metadata": {},
   "outputs": [],
   "source": [
    "from tensorflow.keras.preprocessing.text import Tokenizer\n",
    "tokenizer=Tokenizer(num_words=10000)\n",
    "tokenizer.fit_on_texts(X_train)\n",
    "\n",
    "X_train=tokenizer.texts_to_sequences(X_train)\n",
    "X_test=tokenizer.texts_to_sequences(X_test)\n",
    "\n",
    "X_train=pad_sequences(X_train,maxlen=500,padding=\"post\",truncating=\"post\")\n",
    "X_test=pad_sequences(X_test,maxlen=500,padding=\"post\",truncating=\"post\")"
   ]
  },
  {
   "cell_type": "code",
   "execution_count": 203,
   "id": "9c2308db",
   "metadata": {},
   "outputs": [
    {
     "name": "stdout",
     "output_type": "stream",
     "text": [
      "Model: \"sequential_11\"\n",
      "_________________________________________________________________\n",
      "Layer (type)                 Output Shape              Param #   \n",
      "=================================================================\n",
      "embedding_11 (Embedding)     (None, None, 200)         2000000   \n",
      "_________________________________________________________________\n",
      "rnn_11 (RNN)                 (None, None, 128)         126720    \n",
      "_________________________________________________________________\n",
      "dropout_22 (Dropout)         (None, None, 128)         0         \n",
      "_________________________________________________________________\n",
      "global_average_pooling1d_11  (None, 128)               0         \n",
      "_________________________________________________________________\n",
      "dense_22 (Dense)             (None, 256)               33024     \n",
      "_________________________________________________________________\n",
      "dropout_23 (Dropout)         (None, 256)               0         \n",
      "_________________________________________________________________\n",
      "dense_23 (Dense)             (None, 2)                 514       \n",
      "=================================================================\n",
      "Total params: 2,160,258\n",
      "Trainable params: 2,160,258\n",
      "Non-trainable params: 0\n",
      "_________________________________________________________________\n"
     ]
    }
   ],
   "source": [
    "from tensorflow.keras import Sequential\n",
    "from tensorflow.keras.layers import Embedding,RNN,Dropout,GlobalAveragePooling1D,Dense,GRUCell\n",
    "model=Sequential()\n",
    "#La couche Embedding va transformer chaque index de mots en vecteur d'embedding. \n",
    "# La matrice W de l'embedding sera apprise au fur et à mesure que le modèle s'entraîne. \n",
    "# Les dimensions résultantes sont : (lot, séquence, embedding).\n",
    "model.add(Embedding(10000,200))\n",
    "#Puis, la couche RNN va parcourir la séquence des mots encodés afin de capturer les relations entre les différents mots. \n",
    "# La couche RNN retournera un nouvelle embedding pour chaque mot. \n",
    "# Les dimensions résultantes seront: (lot, séquence, embedding_rnn).\n",
    "model.add(RNN(GRUCell(128),return_sequences=True))\n",
    "model.add(Dropout(0.3))\n",
    "#Ensuite, la couche GlobalAveragePooling1D renvoie un vecteur de sortie de longueur fixe pour chaque exemple \n",
    "#en faisant la moyenne sur la dimension de séquence. \n",
    "#Cette transformation consiste à faire un bag of word et permet au modèle de gérer des entrées de longueur variable.\n",
    "model.add(GlobalAveragePooling1D())\n",
    "#Enfin, comme nous sommes face à un problème de classification (review positive ou négative), \n",
    "#nous allons ajouter des couches Dense pour classifier le sentiment de la review.\n",
    "model.add(Dense(256,activation=\"relu\"))\n",
    "model.add(Dropout(0.3))\n",
    "model.add(Dense(2,activation=\"sigmoid\"))\n",
    "model.summary()"
   ]
  },
  {
   "cell_type": "code",
   "execution_count": 204,
   "id": "19357d85",
   "metadata": {},
   "outputs": [],
   "source": [
    "model.compile(optimizer=\"adam\",loss=\"sparse_categorical_crossentropy\",metrics=[\"accuracy\"])"
   ]
  },
  {
   "cell_type": "code",
   "execution_count": 143,
   "id": "219cdcdb",
   "metadata": {},
   "outputs": [],
   "source": [
    "#model.fit(X_train,y_train,batch_size=64,epochs=10,validation_data=[X_test,y_test])"
   ]
  },
  {
   "cell_type": "code",
   "execution_count": 206,
   "id": "07716672",
   "metadata": {},
   "outputs": [
    {
     "name": "stdout",
     "output_type": "stream",
     "text": [
      "Epoch 1/5\n",
      "800/800 [==============================] - 241s 301ms/step - loss: 0.1152 - accuracy: 0.9614 - val_loss: 0.1113 - val_accuracy: 0.9643\n",
      "INFO:tensorflow:Assets written to: C:/Users/Sevil/Desktop/datascientest/data_sets/corpus_sentiment_analysis\\check\\assets\n",
      "Epoch 2/5\n",
      "800/800 [==============================] - 243s 304ms/step - loss: 0.0624 - accuracy: 0.9792 - val_loss: 0.1243 - val_accuracy: 0.9611\n",
      "INFO:tensorflow:Assets written to: C:/Users/Sevil/Desktop/datascientest/data_sets/corpus_sentiment_analysis\\check\\assets\n",
      "Epoch 3/5\n",
      "800/800 [==============================] - 244s 305ms/step - loss: 0.0349 - accuracy: 0.9890 - val_loss: 0.1469 - val_accuracy: 0.9637\n",
      "INFO:tensorflow:Assets written to: C:/Users/Sevil/Desktop/datascientest/data_sets/corpus_sentiment_analysis\\check\\assets\n",
      "Epoch 4/5\n",
      "800/800 [==============================] - 249s 311ms/step - loss: 0.0226 - accuracy: 0.9928 - val_loss: 0.1511 - val_accuracy: 0.9598\n",
      "INFO:tensorflow:Assets written to: C:/Users/Sevil/Desktop/datascientest/data_sets/corpus_sentiment_analysis\\check\\assets\n",
      "Epoch 5/5\n",
      "800/800 [==============================] - 250s 313ms/step - loss: 0.0139 - accuracy: 0.9955 - val_loss: 0.1955 - val_accuracy: 0.9573\n",
      "INFO:tensorflow:Assets written to: C:/Users/Sevil/Desktop/datascientest/data_sets/corpus_sentiment_analysis\\check\\assets\n",
      "INFO:tensorflow:Assets written to: C:/Users/Sevil/Desktop/datascientest/data_sets/corpus_sentiment_analysis/model_sentiment_analysis\\assets\n"
     ]
    }
   ],
   "source": [
    "from tensorflow.keras import callbacks\n",
    "lr_plateau = callbacks.ReduceLROnPlateau(monitor = 'loss',\n",
    "                                         patience = 3,\n",
    "                                         factor = 0.5,\n",
    "                                         verbose = 2,\n",
    "                                         mode = 'min')\n",
    "early_stopping = callbacks.EarlyStopping(monitor = \"loss\",\n",
    "                                         patience = 3,\n",
    "                                         mode = 'min',\n",
    "                                         verbose = 2,\n",
    "                                         restore_best_weights= True)\n",
    "checkpoint = callbacks.ModelCheckpoint(filepath=\"C:/Users/Sevil/Desktop/datascientest/data_sets/corpus_sentiment_analysis/check\",\n",
    "                                      monitor = 'loss',\n",
    "                                      save_best_only = True,\n",
    "                                      save_weights_only = False,\n",
    "                                      mode = 'min',\n",
    "                                      save_freq = 'epoch')\n",
    "\n",
    "history = model.fit(X_train,y_train,epochs = 5,validation_data=(X_test,y_test),callbacks=[lr_plateau,early_stopping, checkpoint])\n",
    "\n",
    "save_name = \"C:/Users/Sevil/Desktop/datascientest/data_sets/corpus_sentiment_analysis/model_sentiment_analysis\"\n",
    "model.save(save_name)"
   ]
  },
  {
   "cell_type": "code",
   "execution_count": 207,
   "id": "a84bdd26",
   "metadata": {},
   "outputs": [
    {
     "name": "stdout",
     "output_type": "stream",
     "text": [
      "50/50 [==============================] - 26s 512ms/step - loss: 0.1955 - accuracy: 0.9573\n"
     ]
    },
    {
     "data": {
      "text/plain": [
       "[0.19550149142742157, 0.9572970271110535]"
      ]
     },
     "execution_count": 207,
     "metadata": {},
     "output_type": "execute_result"
    }
   ],
   "source": [
    "model.evaluate(X_test,y_test.values,batch_size=128)"
   ]
  },
  {
   "cell_type": "code",
   "execution_count": 217,
   "id": "c114242b",
   "metadata": {},
   "outputs": [
    {
     "name": "stdout",
     "output_type": "stream",
     "text": [
      "[[5842  114]\n",
      " [ 159  278]]\n",
      "Predicted     0    1\n",
      "Actual              \n",
      "0          5842  114\n",
      "1           159  278\n",
      "              precision    recall  f1-score   support\n",
      "\n",
      "           0       0.97      0.98      0.98      5956\n",
      "           1       0.71      0.64      0.67       437\n",
      "\n",
      "    accuracy                           0.96      6393\n",
      "   macro avg       0.84      0.81      0.82      6393\n",
      "weighted avg       0.96      0.96      0.96      6393\n",
      "\n"
     ]
    }
   ],
   "source": [
    "from sklearn.metrics import confusion_matrix,classification_report\n",
    "\n",
    "probs = model.predict(X_test)\n",
    "\n",
    "y_pred = np.argmax(probs, axis=1)\n",
    "\n",
    "\n",
    "\n",
    "matrix = confusion_matrix( y_test, y_pred,labels=[0,1])\n",
    "print(matrix)\n",
    "conf_matrix = pd.crosstab(y_test, y_pred, rownames=['Actual'], colnames=['Predicted'])\n",
    "print(conf_matrix)\n",
    "print(classification_report(y_test,y_pred))\n"
   ]
  },
  {
   "cell_type": "code",
   "execution_count": 216,
   "id": "6b6759cb",
   "metadata": {},
   "outputs": [
    {
     "data": {
      "image/png": "[encoded data removed]",
      "text/plain": [
       "<Figure size 864x288 with 2 Axes>"
      ]
     },
     "metadata": {},
     "output_type": "display_data"
    }
   ],
   "source": [
    "plt.figure(figsize=(12,4))\n",
    "\n",
    "plt.subplot(121)\n",
    "plt.plot(history.history['val_loss'])\n",
    "plt.plot(history.history['accuracy'])\n",
    "plt.title('Model loss by epoch')\n",
    "plt.ylabel('val_loss')\n",
    "plt.xlabel('epoch')\n",
    "plt.legend(['train', 'test'], loc='right')\n",
    "\n",
    "plt.subplot(122)\n",
    "plt.plot(history.history['accuracy'])\n",
    "plt.plot(history.history['val_accuracy'])\n",
    "plt.title('Model accuracy by epoch')\n",
    "plt.ylabel('accuracy')\n",
    "plt.xlabel('epoch')\n",
    "plt.legend(['train', 'test'], loc='right')\n",
    "plt.show()"
   ]
  },
  {
   "cell_type": "code",
   "execution_count": null,
   "id": "31a73460",
   "metadata": {},
   "outputs": [],
   "source": []
  }
 ],
 "metadata": {
  "kernelspec": {
   "display_name": "Python 3",
   "language": "python",
   "name": "python3"
  },
  "language_info": {
   "codemirror_mode": {
    "name": "ipython",
    "version": 3
   },
   "file_extension": ".py",
   "mimetype": "text/x-python",
   "name": "python",
   "nbconvert_exporter": "python",
   "pygments_lexer": "ipython3",
   "version": "3.8.8"
  }
 },
 "nbformat": 4,
 "nbformat_minor": 5
}
